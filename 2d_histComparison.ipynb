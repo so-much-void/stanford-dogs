{
 "cells": [
  {
   "cell_type": "code",
   "execution_count": 29,
   "id": "4048c2fa-14cd-4fc4-92d3-d224910b05c3",
   "metadata": {},
   "outputs": [],
   "source": [
    "import cv2\n",
    "import math\n",
    "import numpy as np\n",
    "\n",
    "# Load the images\n",
    "img1 = cv2.imread(\"C:/Users/HP/Data_Mining/Standford Dogs Dataset/images/Images/n02085936-Maltese_dog/n02085936_3698.jpg\")\n",
    "img2 = cv2.imread(\"C:/Users/HP/Data_Mining/Standford Dogs Dataset/images/Images/n02085936-Maltese_dog/n02085936_4070.jpg\")\n",
    "img3 = cv2.imread(\"C:/Users/HP/Data_Mining/Standford Dogs Dataset/images/Images/n02088466-bloodhound/n02088466_7928.jpg\")\n",
    "\n",
    "grayImg1 = cv2.cvtColor(img1,cv2.COLOR_BGR2GRAY)\n",
    "grayImg2 = cv2.cvtColor(img2,cv2.COLOR_BGR2GRAY)\n",
    "grayImg3 = cv2.cvtColor(img3,cv2.COLOR_BGR2GRAY)\n",
    "hist1 = cv2.calcHist([grayImg1], [0], None, [256], [0, 256])\n",
    "hist2 = cv2.calcHist([grayImg2], [0], None, [256], [0, 256])\n",
    "hist3 = cv2.calcHist([grayImg3], [0], None, [256], [0, 256])"
   ]
  },
  {
   "cell_type": "code",
   "execution_count": 28,
   "id": "ecdd9c75-7183-4af4-8bc0-26269e13bf18",
   "metadata": {},
   "outputs": [
    {
     "name": "stdout",
     "output_type": "stream",
     "text": [
      "Euclidean Distance - Same Class: 10851.873\n",
      "Euclidean Distance - Different Classes: 19327.166\n"
     ]
    }
   ],
   "source": [
    "# Histogram Comparison\n",
    "\n",
    "# Euclidian Distance\n",
    "\n",
    "def euclidean_distance(histA, histB):\n",
    "    return np.sqrt(np.sum((histA - histB) ** 2))\n",
    "    \n",
    "euclidean_same_class = euclidean_distance(hist1, hist2)\n",
    "euclidean_diff_class = euclidean_distance(hist1, hist3)\n",
    "\n",
    "print(\"Euclidean Distance - Same Class:\", euclidean_same_class)\n",
    "print(\"Euclidean Distance - Different Classes:\", euclidean_diff_class)\n",
    "\n",
    "# Smaller distance between histograms of the same class suggests similar image content.\n",
    "# Larger distance between histograms of different classes indicates dissimilar image content."
   ]
  },
  {
   "cell_type": "code",
   "execution_count": 30,
   "id": "12db5b0a-a2c3-4e9a-878a-f0d301dc16d5",
   "metadata": {},
   "outputs": [
    {
     "name": "stdout",
     "output_type": "stream",
     "text": [
      "Manhattan Distance - Same Class: 116714.0\n",
      "Manhattan Distance - Different Classes: 141648.0\n"
     ]
    }
   ],
   "source": [
    "# Mannhattan Distance\n",
    "\n",
    "def manhattan_distance(histA, histB):\n",
    "    return np.sum(np.abs(histA - histB))\n",
    "\n",
    "manhattan_same_class = manhattan_distance(hist1, hist2)\n",
    "manhattan_diff_class = manhattan_distance(hist1, hist3)\n",
    "\n",
    "print(\"Manhattan Distance - Same Class:\", manhattan_same_class)\n",
    "print(\"Manhattan Distance - Different Classes:\", manhattan_diff_class)\n",
    "\n",
    "# Smaller distance between histograms of the same class implies closer resemblance in image features.\n",
    "# Larger distance between histograms of different classes signifies greater dissimilarity in image features."
   ]
  },
  {
   "cell_type": "code",
   "execution_count": 32,
   "id": "2f16780c-9c96-492a-9dce-cbbdbafd23ad",
   "metadata": {},
   "outputs": [
    {
     "name": "stdout",
     "output_type": "stream",
     "text": [
      "Cosine Distance - Same Class: 0.18934728748924767\n",
      "Cosine Distance - Different Classes: 0.5799632941352244\n"
     ]
    }
   ],
   "source": [
    "# Cosine distance\n",
    "\n",
    "import numpy as np\n",
    "\n",
    "def cosine_distance(histA, histB):\n",
    "    return distance.cosine(histA, histB)\n",
    "\n",
    "# Assuming hist1, hist2, and hist3 are your histograms\n",
    "hist1_flat = np.ravel(hist1)\n",
    "hist2_flat = np.ravel(hist2)\n",
    "hist3_flat = np.ravel(hist3)\n",
    "\n",
    "cosine_same_class = cosine_distance(hist1_flat, hist2_flat)\n",
    "cosine_diff_class = cosine_distance(hist1_flat, hist3_flat)\n",
    "\n",
    "print(\"Cosine Distance - Same Class:\", cosine_same_class)\n",
    "print(\"Cosine Distance - Different Classes:\", cosine_diff_class)\n",
    "\n",
    "# Closer to 0 cosine distance between histograms of the same class denotes higher similarity in shape and distribution.\n",
    "# Larger cosine distance between histograms of different classes indicates lower similarity in shape and distribution."
   ]
  }
 ],
 "metadata": {
  "kernelspec": {
   "display_name": "Python 3 (ipykernel)",
   "language": "python",
   "name": "python3"
  },
  "language_info": {
   "codemirror_mode": {
    "name": "ipython",
    "version": 3
   },
   "file_extension": ".py",
   "mimetype": "text/x-python",
   "name": "python",
   "nbconvert_exporter": "python",
   "pygments_lexer": "ipython3",
   "version": "3.12.1"
  }
 },
 "nbformat": 4,
 "nbformat_minor": 5
}
